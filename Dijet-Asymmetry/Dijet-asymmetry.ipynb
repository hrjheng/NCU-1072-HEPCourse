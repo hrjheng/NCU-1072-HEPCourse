{
 "cells": [
  {
   "cell_type": "code",
   "execution_count": 1,
   "metadata": {},
   "outputs": [
    {
     "name": "stdout",
     "output_type": "stream",
     "text": [
      "Welcome to JupyROOT 6.16/00\n"
     ]
    }
   ],
   "source": [
    "import ROOT\n",
    "import numpy as np\n",
    "import pandas as pd\n",
    "import matplotlib.pyplot as plt\n",
    "from matplotlib.colors import LogNorm\n",
    "from skhep.visual import MplPlotter as skh_plt\n",
    "import os\n",
    "import tdrstyle as tdr\n",
    "\n",
    "ROOT.gStyle.SetOptStat(0)\n",
    "tdr.setTDRStyle()"
   ]
  },
  {
   "cell_type": "code",
   "execution_count": 66,
   "metadata": {},
   "outputs": [
    {
     "name": "stdout",
     "output_type": "stream",
     "text": [
      "0.9230769230769231 0.7204301075268817\n"
     ]
    }
   ],
   "source": [
    "def Energy_loss(jet_pt, L):\n",
    "    random = ROOT.TRandom3()\n",
    "    \n",
    "    # C = 0.055 # function3 (a,b)=(1,1)\n",
    "    # C = 0.0055 # function2 (a,b)=(1,2)\n",
    "    # dE_avg = C*pow(jet_pt,1)*pow(L,2)\n",
    "    \n",
    "    C1 = 0.03\n",
    "    C2 = 0.003\n",
    "    N = random.Exp(L/14.)\n",
    "\n",
    "    dE_avg = C1*pow(jet_pt,1)*pow(L,1) + (int(N)+1)*C2*pow(jet_pt,2)\n",
    "    dE = random.PoissonD(dE_avg)\n",
    "    \n",
    "    return dE\n",
    "\n",
    "print (120./130.,Energy_loss(120,5)/Energy_loss(130,9))"
   ]
  },
  {
   "cell_type": "code",
   "execution_count": 30,
   "metadata": {},
   "outputs": [],
   "source": [
    "def deltaPhi(phi1, phi2):\n",
    "    dPhi = phi1 - phi2\n",
    "    if dPhi > ROOT.TMath.Pi():\n",
    "        dPhi -= 2.*ROOT.TMath.Pi()\n",
    "    if dPhi < -ROOT.TMath.Pi():\n",
    "        dPhi += 2.*ROOT.TMath.Pi()\n",
    "\n",
    "    return dPhi\n",
    "\n",
    "\n",
    "def deltaR(eta1, phi1, eta2, phi2):\n",
    "    dEta = eta1 - eta2\n",
    "    dPhi = deltaPhi(phi1, phi2)\n",
    "    return ROOT.TMath.Sqrt(dEta*dEta+dPhi*dPhi)\n",
    "\n",
    "\n",
    "def deltaEta(eta1, eta2):\n",
    "    return eta1 - eta2"
   ]
  },
  {
   "cell_type": "code",
   "execution_count": 4,
   "metadata": {},
   "outputs": [],
   "source": [
    "f_hM = ROOT.TFile('../GlauberMC/plots/histogram-R1R2.root','READ')\n",
    "f_hM.cd()\n",
    "hM_R1R2 = f_hM.Get('hM_R1R2')\n",
    "hM_R1R2.SetDirectory(0)\n",
    "f_hM.Close()"
   ]
  },
  {
   "cell_type": "code",
   "execution_count": 67,
   "metadata": {},
   "outputs": [
    {
     "name": "stdout",
     "output_type": "stream",
     "text": [
      "0.7014292058538296 0.7607791186816408\n"
     ]
    },
    {
     "name": "stderr",
     "output_type": "stream",
     "text": [
      "Warning in <TFile::Append>: Replacing existing TH1: hM_xJ (Potential memory leak).\n",
      "Warning in <TFile::Append>: Replacing existing TH1: hM_xJ_dE (Potential memory leak).\n",
      "Warning in <TFile::Append>: Replacing existing TH1: hM_AJ (Potential memory leak).\n",
      "Warning in <TFile::Append>: Replacing existing TH1: hM_AJ_dE (Potential memory leak).\n",
      "Warning in <TFile::Append>: Replacing existing TH1: hM_xJ (Potential memory leak).\n",
      "Warning in <TFile::Append>: Replacing existing TH1: hM_xJ_dE (Potential memory leak).\n",
      "Warning in <TFile::Append>: Replacing existing TH1: hM_AJ (Potential memory leak).\n",
      "Warning in <TFile::Append>: Replacing existing TH1: hM_AJ_dE (Potential memory leak).\n",
      "Warning in <TFile::Append>: Replacing existing TH1: hM_xJ (Potential memory leak).\n",
      "Warning in <TFile::Append>: Replacing existing TH1: hM_xJ_dE (Potential memory leak).\n",
      "Warning in <TFile::Append>: Replacing existing TH1: hM_AJ (Potential memory leak).\n",
      "Warning in <TFile::Append>: Replacing existing TH1: hM_AJ_dE (Potential memory leak).\n"
     ]
    }
   ],
   "source": [
    "f = ROOT.TFile('./data/dijet_events_v2.root','READ')\n",
    "tree = ROOT.gROOT.FindObject(\"EventTree\")\n",
    "\n",
    "list_pt_bin = [100,126,158,200]\n",
    "list_hM_xJ = []\n",
    "list_hM_xJ_dE = []\n",
    "list_hM_AJ = []\n",
    "list_hM_AJ_dE = []\n",
    "\n",
    "ATLAS_bin = np.array([0.0,0.04,0.08,0.11,0.14,0.17,0.2,0.23,0.26,0.29,\n",
    "             0.33597-0.01842,\n",
    "             0.3769-0.02204,\n",
    "             0.4231-0.02435,\n",
    "             0.47459-0.02757,\n",
    "             0.53267-0.03079,\n",
    "             0.59736-0.03404,\n",
    "             0.66997-0.03643,\n",
    "             0.75182-0.04148,\n",
    "             0.8429-0.04698,\n",
    "             0.94587-0.05339,1.0], dtype='float64')\n",
    "\n",
    "for ibin in range(len(list_pt_bin)):\n",
    "    list_hM_xJ.append(ROOT.TH1F('hM_xJ','hM_xJ',len(ATLAS_bin)-1, ATLAS_bin))\n",
    "    list_hM_xJ_dE.append(ROOT.TH1F('hM_xJ_dE','hM_xJ_dE',len(ATLAS_bin)-1, ATLAS_bin))\n",
    "    list_hM_AJ.append(ROOT.TH1F('hM_AJ','hM_AJ',len(ATLAS_bin)-1, ATLAS_bin))\n",
    "    list_hM_AJ_dE.append(ROOT.TH1F('hM_AJ_dE','hM_AJ_dE',len(ATLAS_bin)-1, ATLAS_bin))\n",
    "\n",
    "    \n",
    "hM_jetpt = ROOT.TH2F('hM_jetpt','hM_jetpt',100,0,500,100,0,500)\n",
    "hM_dPhi = ROOT.TH1F('hM_dPhi','hM_dPhi',50,0,ROOT.TMath.Pi())\n",
    "\n",
    "nEntries =  tree.GetEntries()\n",
    "for iEntry in range(0,nEntries):\n",
    "    tree.GetEntry(iEntry)\n",
    "    \n",
    "    if len(tree.pT) < 2:\n",
    "        continue\n",
    "        \n",
    "    pT_jet1 = -1.\n",
    "    pT_jet2 = -1.\n",
    "    if tree.pT[0] > tree.pT[1]:\n",
    "        pT_jet1 = tree.pT[0]\n",
    "        pT_jet2 = tree.pT[1]\n",
    "    else:\n",
    "        pT_jet1 = tree.pT[1]\n",
    "        pT_jet2 = tree.pT[0]\n",
    "    \n",
    "    \n",
    "    hM_jetpt.Fill(tree.pT[0],tree.pT[1])\n",
    "    hM_dPhi.Fill(abs(deltaPhi(tree.phi[0],tree.phi[1])))\n",
    "    \n",
    "    # Jet selection, following ATLAS analysis arXiv:1706.09363\n",
    "    if pT_jet1 < 25. or pT_jet2 < 25.:\n",
    "        continue\n",
    "        \n",
    "    if abs(tree.eta[0]) > 2.1 or abs(tree.eta[1]) > 2.1:\n",
    "        continue\n",
    "        \n",
    "    if abs(deltaPhi(tree.phi[0],tree.phi[1])) < (7.*ROOT.TMath.Pi())/8.:\n",
    "        continue\n",
    "    \n",
    "    if pT_jet1 < 100.:\n",
    "        continue\n",
    "        \n",
    "    \n",
    "    xJ = pT_jet2/pT_jet1\n",
    "    AJ = (pT_jet1-pT_jet2)/(pT_jet1+pT_jet2)\n",
    "    \n",
    "    L1 = ROOT.Double(0.0)\n",
    "    L2 = ROOT.Double(0.0)\n",
    "    hM_R1R2.GetRandom2(L1,L2)\n",
    "    \n",
    "    dE_jet1 = Energy_loss(pT_jet1, L1)\n",
    "    dE_jet2 = Energy_loss(pT_jet2, L2)\n",
    "    \n",
    "    pT_jet1_dE = pT_jet1 - dE_jet1\n",
    "    pT_jet2_dE = pT_jet2 - dE_jet2\n",
    "    if pT_jet1_dE < pT_jet2_dE:\n",
    "        tmp = pT_jet2_dE\n",
    "        pT_jet2_dE = pT_jet1_dE\n",
    "        pT_jet1_dE = tmp\n",
    "    \n",
    "    xJ_dE = pT_jet2_dE/pT_jet1_dE\n",
    "    AJ_dE = (pT_jet1_dE-pT_jet2_dE)/(pT_jet1_dE+pT_jet2_dE)\n",
    "    \n",
    "    if iEntry < 100:\n",
    "        print (xJ,xJ_dE)\n",
    "        \n",
    "    if pT_jet1 > 100. and pT_jet1 < 126.:\n",
    "        list_hM_xJ[0].Fill(xJ)\n",
    "        list_hM_xJ_dE[0].Fill(xJ_dE)\n",
    "        list_hM_AJ[0].Fill(AJ)\n",
    "        list_hM_AJ_dE[0].Fill(AJ_dE)\n",
    "    elif pT_jet1 > 126. and pT_jet1 < 158.:\n",
    "        list_hM_xJ[1].Fill(xJ)\n",
    "        list_hM_xJ_dE[1].Fill(xJ_dE)\n",
    "        list_hM_AJ[1].Fill(AJ)\n",
    "        list_hM_AJ_dE[1].Fill(AJ_dE)\n",
    "    elif pT_jet1 > 158. and pT_jet1 < 200.:\n",
    "        list_hM_xJ[2].Fill(xJ)\n",
    "        list_hM_xJ_dE[2].Fill(xJ_dE)\n",
    "        list_hM_AJ[2].Fill(AJ)\n",
    "        list_hM_AJ_dE[2].Fill(AJ_dE)\n",
    "    elif pT_jet1 > 200.:\n",
    "        list_hM_xJ[3].Fill(xJ)\n",
    "        list_hM_xJ_dE[3].Fill(xJ_dE)\n",
    "        list_hM_AJ[3].Fill(AJ)\n",
    "        list_hM_AJ_dE[3].Fill(AJ_dE)\n",
    "    else:\n",
    "        continue"
   ]
  },
  {
   "cell_type": "code",
   "execution_count": 91,
   "metadata": {},
   "outputs": [
    {
     "name": "stderr",
     "output_type": "stream",
     "text": [
      "Warning in <TCanvas::Constructor>: Deleting canvas with same name: c0\n",
      "Info in <TCanvas::Print>: png file ./plots/JetpT-distribution-v2.png has been created\n",
      "Info in <TCanvas::Print>: pdf file ./plots/JetpT-distribution-v2.pdf has been created\n"
     ]
    },
    {
     "data": {
      "image/png": "[encoded data removed]",
      "text/plain": [
       "<IPython.core.display.Image object>"
      ]
     },
     "metadata": {},
     "output_type": "display_data"
    }
   ],
   "source": [
    "c0 = ROOT.TCanvas('c0', 'c0', 500, 400)\n",
    "ROOT.gStyle.SetPalette(55)\n",
    "c0.cd()\n",
    "# c0.SetLogx()\n",
    "# c0.SetLogy()\n",
    "c0.SetLogz()\n",
    "ROOT.gPad.SetRightMargin(0.13)\n",
    "ROOT.gPad.SetBottomMargin(0.16)\n",
    "hM_jetpt.GetXaxis().SetTitle('p_{T}^{jet1} (GeV)')\n",
    "hM_jetpt.GetYaxis().SetTitle('p_{T}^{jet2} (GeV)')\n",
    "hM_jetpt.GetXaxis().SetTitleOffset(1.1)\n",
    "hM_jetpt.SetContour(2000)\n",
    "hM_jetpt.Draw('colz')\n",
    "\n",
    "ROOT.gPad.Update()\n",
    "palette = hM_jetpt.GetListOfFunctions().FindObject('palette')\n",
    "palette.SetX1NDC(0.88)\n",
    "palette.SetX2NDC(0.92)\n",
    "palette.SetY1NDC(0.16)\n",
    "palette.SetY2NDC(0.95)\n",
    "ROOT.gPad.Modified()\n",
    "ROOT.gPad.Update()\n",
    "\n",
    "c0.Draw()\n",
    "c0.SaveAs('./plots/JetpT-distribution-v2.png')\n",
    "c0.SaveAs('./plots/JetpT-distribution-v2.pdf')"
   ]
  },
  {
   "cell_type": "code",
   "execution_count": 89,
   "metadata": {},
   "outputs": [
    {
     "name": "stderr",
     "output_type": "stream",
     "text": [
      "Warning in <TCanvas::Constructor>: Deleting canvas with same name: c1\n",
      "Info in <TCanvas::Print>: png file ./plots/DijetDeltaPhi-distribution-v2.png has been created\n",
      "Info in <TCanvas::Print>: pdf file ./plots/DijetDeltaPhi-distribution-v2.pdf has been created\n"
     ]
    },
    {
     "data": {
      "image/png": "[encoded data removed]",
      "text/plain": [
       "<IPython.core.display.Image object>"
      ]
     },
     "metadata": {},
     "output_type": "display_data"
    }
   ],
   "source": [
    "c1 = ROOT.TCanvas('c1', 'c1', 500, 400)\n",
    "c1.cd()\n",
    "c1.SetLogy()\n",
    "ROOT.gPad.SetRightMargin(0.05)\n",
    "ROOT.gPad.SetBottomMargin(0.16)\n",
    "ROOT.gPad.SetTopMargin(0.06)\n",
    "hM_dPhi.GetXaxis().SetTitle('#Delta#phi')\n",
    "hM_dPhi.GetYaxis().SetTitle('Entries')\n",
    "hM_dPhi.GetXaxis().SetTitleOffset(1.1)\n",
    "hM_dPhi.SetLineWidth(2)\n",
    "hM_dPhi.Draw('histe')\n",
    "\n",
    "l = ROOT.TLine(7.*ROOT.TMath.Pi()/8.,c1.GetUymin(),7.*ROOT.TMath.Pi()/8.,hM_dPhi.GetMaximum())\n",
    "l.SetLineColor(2)\n",
    "l.SetLineWidth(2)\n",
    "l.Draw('same')\n",
    "\n",
    "c1.Draw()\n",
    "c1.SaveAs('./plots/DijetDeltaPhi-distribution-v2.png')\n",
    "c1.SaveAs('./plots/DijetDeltaPhi-distribution-v2.pdf')"
   ]
  },
  {
   "cell_type": "code",
   "execution_count": 21,
   "metadata": {},
   "outputs": [
    {
     "name": "stdout",
     "output_type": "stream",
     "text": [
      "13.64153\n",
      "13.51679\n",
      "13.56523\n",
      "12.709029999999998\n"
     ]
    }
   ],
   "source": [
    "list_ATLAS_PbPb_data_Stat = ['ATLAS-PbPb-100to126GeV-Stat.csv',\n",
    "                             'ATLAS-PbPb-126to158GeV-Stat.csv',\n",
    "                             'ATLAS-PbPb-158to200GeV-Stat.csv',\n",
    "                             'ATLAS-PbPb-200toinvGeV-Stat.csv']\n",
    "\n",
    "list_ATLAS_PbPb_data_Syst = ['ATLAS-PbPb-100to126GeV-Syst.csv',\n",
    "                             'ATLAS-PbPb-126to158GeV-Syst.csv',\n",
    "                             'ATLAS-PbPb-158to200GeV-Syst.csv',\n",
    "                             'ATLAS-PbPb-200toinvGeV-Syst.csv']\n",
    "\n",
    "list_ATLAS_pp_data_Stat = ['ATLAS-pp-100to126GeV-Stat.csv',\n",
    "                             'ATLAS-pp-126to158GeV-Stat.csv',\n",
    "                             'ATLAS-pp-158to200GeV-Stat.csv',\n",
    "                             'ATLAS-pp-200toinvGeV-Stat.csv']\n",
    "\n",
    "list_ATLAS_pp_data_Syst = ['ATLAS-pp-100to126GeV-Syst.csv',\n",
    "                             'ATLAS-pp-126to158GeV-Syst.csv',\n",
    "                             'ATLAS-pp-158to200GeV-Syst.csv',\n",
    "                             'ATLAS-pp-200toinvGeV-Syst.csv']\n",
    "\n",
    "list_ATLAS_PbPb_gr_Stat = []\n",
    "list_ATLAS_PbPb_gr_Syst = []\n",
    "list_ATLAS_pp_gr_Stat = []\n",
    "list_ATLAS_pp_gr_Syst = []\n",
    "\n",
    "list_ATLAS_Norm_PbPb = []\n",
    "\n",
    "for ibin in range(len(list_ATLAS_PbPb_data_Stat)):\n",
    "    list_ATLAS_PbPb_gr_Stat.append(ROOT.TGraphAsymmErrors('./data/ATLAS-arXiv170609363-Fig9/'+list_ATLAS_PbPb_data_Stat[ibin],\n",
    "                                                          '%lf,%lf,%lf,%lf,%lf,%lf'))\n",
    "    list_ATLAS_PbPb_gr_Syst.append(ROOT.TGraphAsymmErrors('./data/ATLAS-arXiv170609363-Fig9/'+list_ATLAS_PbPb_data_Syst[ibin],\n",
    "                                                          '%lf,%lf,%lf,%lf,%lf,%lf'))\n",
    "    list_ATLAS_pp_gr_Stat.append(ROOT.TGraphAsymmErrors('./data/ATLAS-arXiv170609363-Fig9/'+list_ATLAS_pp_data_Stat[ibin],\n",
    "                                                          '%lf,%lf,%lf,%lf,%lf,%lf'))\n",
    "    list_ATLAS_pp_gr_Syst.append(ROOT.TGraphAsymmErrors('./data/ATLAS-arXiv170609363-Fig9/'+list_ATLAS_pp_data_Syst[ibin],\n",
    "                                                          '%lf,%lf,%lf,%lf,%lf,%lf'))\n",
    "    \n",
    "    norm = 0.\n",
    "    for i in range(len(list_yval)):\n",
    "        norm = norm + list_ATLAS_PbPb_gr_Stat[ibin].GetY()[i]\n",
    "    \n",
    "    list_ATLAS_Norm_PbPb.append(norm)\n",
    "    "
   ]
  },
  {
   "cell_type": "code",
   "execution_count": 68,
   "metadata": {},
   "outputs": [
    {
     "name": "stderr",
     "output_type": "stream",
     "text": [
      "Warning in <TCanvas::Constructor>: Deleting canvas with same name: c\n",
      "Info in <TCanvas::Print>: png file ./plots/xJ-inclusive-pp-EnergyLoss-function7-v2.png has been created\n",
      "Info in <TCanvas::Print>: pdf file ./plots/xJ-inclusive-pp-EnergyLoss-function7-v2.pdf has been created\n",
      "Warning in <TCanvas::Constructor>: Deleting canvas with same name: cl\n",
      "Info in <TCanvas::Print>: png file ./plots/legend-xJ-inclusive-pp-EnergyLoss.png has been created\n",
      "Info in <TCanvas::Print>: pdf file ./plots/legend-xJ-inclusive-pp-EnergyLoss.pdf has been created\n"
     ]
    },
    {
     "data": {
      "image/png": "[encoded data removed]",
      "text/plain": [
       "<IPython.core.display.Image object>"
      ]
     },
     "metadata": {},
     "output_type": "display_data"
    }
   ],
   "source": [
    "for ibin in range(len(list_pt_bin)):\n",
    "    list_hM_xJ[ibin].Scale(list_ATLAS_Norm_PbPb[ibin]/list_hM_xJ[ibin].Integral(-1,-1))\n",
    "    list_hM_xJ_dE[ibin].Scale(list_ATLAS_Norm_PbPb[ibin]/list_hM_xJ_dE[ibin].Integral(-1,-1))\n",
    "    \n",
    "    \n",
    "list_extratext = ['100<p_{T}^{jet1}<126GeV','126<p_{T}^{jet1}<158GeV','158<p_{T}^{jet1}<200GeV','p_{T}^{jet1}>200GeV']\n",
    "\n",
    "c = ROOT.TCanvas('c', 'c', 1000, 800)\n",
    "c.Divide(2,2)\n",
    "\n",
    "for icd in range(len(list_pt_bin)):\n",
    "    c.cd(icd+1)\n",
    "    ROOT.gPad.SetRightMargin(0.05)\n",
    "    ROOT.gPad.SetBottomMargin(0.15)\n",
    "    list_hM_xJ[icd].SetLineWidth(2)\n",
    "    list_hM_xJ[icd].SetMarkerStyle(22)\n",
    "    list_hM_xJ[icd].SetLineColor(12)\n",
    "    list_hM_xJ[icd].SetMarkerColor(12)\n",
    "    list_hM_xJ[icd].GetXaxis().SetTitle('x_{J}=p_{T}^{jet 2}/p_{T}^{jet 1}')\n",
    "    list_hM_xJ[icd].GetYaxis().SetTitle('Normalized entries')\n",
    "    list_hM_xJ[icd].GetXaxis().SetTitleOffset(1.1)\n",
    "    list_hM_xJ[icd].GetYaxis().SetRangeUser(0,5)\n",
    "    list_hM_xJ[icd].Draw('histeX0')\n",
    "\n",
    "    list_hM_xJ_dE[icd].SetLineWidth(2)\n",
    "    list_hM_xJ_dE[icd].SetMarkerStyle(22)\n",
    "    list_hM_xJ_dE[icd].SetLineColor(ROOT.kGreen+3)\n",
    "    list_hM_xJ_dE[icd].SetMarkerColor(ROOT.kGreen+3)\n",
    "    list_hM_xJ_dE[icd].Draw('histeX0same')\n",
    "\n",
    "#     list_ATLAS_gr_Syst[icd].GetXaxis().SetLimits(0,1)\n",
    "#     list_ATLAS_gr_Syst[icd].GetYaxis().SetRangeUser(0,5)\n",
    "    list_ATLAS_PbPb_gr_Syst[icd].SetMarkerColor(46)\n",
    "    list_ATLAS_PbPb_gr_Syst[icd].SetFillColor(ROOT.kRed-9)\n",
    "    list_ATLAS_PbPb_gr_Syst[icd].SetLineColor(46)\n",
    "    list_ATLAS_PbPb_gr_Syst[icd].SetLineWidth(2)\n",
    "    list_ATLAS_PbPb_gr_Syst[icd].SetMarkerStyle(20)\n",
    "    list_ATLAS_PbPb_gr_Syst[icd].SetFillStyle(0)\n",
    "    list_ATLAS_PbPb_gr_Syst[icd].Draw('E2same')\n",
    "    \n",
    "    list_ATLAS_PbPb_gr_Stat[icd].SetMarkerColor(46)\n",
    "    list_ATLAS_PbPb_gr_Stat[icd].SetLineColor(46)\n",
    "    list_ATLAS_PbPb_gr_Stat[icd].SetLineWidth(2)\n",
    "    list_ATLAS_PbPb_gr_Stat[icd].SetMarkerStyle(20)\n",
    "    list_ATLAS_PbPb_gr_Stat[icd].Draw('Psame')\n",
    "    \n",
    "    list_ATLAS_pp_gr_Syst[icd].SetMarkerColor(38)\n",
    "    list_ATLAS_pp_gr_Syst[icd].SetFillColor(ROOT.kBlue-9)\n",
    "    list_ATLAS_pp_gr_Syst[icd].SetLineColor(38)\n",
    "    list_ATLAS_pp_gr_Syst[icd].SetLineWidth(2)\n",
    "    list_ATLAS_pp_gr_Syst[icd].SetMarkerStyle(20)\n",
    "    list_ATLAS_pp_gr_Syst[icd].SetFillStyle(0)\n",
    "    list_ATLAS_pp_gr_Syst[icd].Draw('E2same')\n",
    "    \n",
    "    list_ATLAS_pp_gr_Stat[icd].SetMarkerColor(38)\n",
    "    list_ATLAS_pp_gr_Stat[icd].SetLineColor(38)\n",
    "    list_ATLAS_pp_gr_Stat[icd].SetLineWidth(2)\n",
    "    list_ATLAS_pp_gr_Stat[icd].SetMarkerStyle(20)\n",
    "    list_ATLAS_pp_gr_Stat[icd].Draw('Psame')\n",
    "    \n",
    "    list_hM_xJ[icd].Draw('histeX0same')\n",
    "    list_hM_xJ_dE[icd].Draw('histeX0same')\n",
    "    \n",
    "    if icd == 0:\n",
    "        latex = ROOT.TLatex()\n",
    "        latex.SetNDC()\n",
    "        latex.SetTextFont(42)\n",
    "        latex.SetTextSize(0.06)\n",
    "        # latex.DrawLatex(0.23, 0.71, '<#DeltaE> = f(p_{T}^{jet},L) = C#times(p_{T}^{jet})^{1}#timesL^{2}')\n",
    "        latex.DrawLatex(0.23, 0.71, '<#DeltaE> = C_{1}#times(p_{T}^{jet})^{1}#timesL^{1}+N#timesC_{2}#times(p_{T}^{jet})^{1}')\n",
    "        # latex.DrawLatex(0.35, 0.7, '<#DeltaE> = collision loss + radiation loss')\n",
    "        \n",
    "    extratext = ROOT.TLatex()\n",
    "    extratext.SetNDC()\n",
    "    extratext.SetTextFont(42)\n",
    "    extratext.SetTextSize(0.06)\n",
    "    extratext.DrawLatex(0.23, 0.82, list_extratext[icd])\n",
    "        \n",
    "\n",
    "c.Draw()\n",
    "c.SaveAs('./plots/xJ-inclusive-pp-EnergyLoss-function7-v2.png')\n",
    "c.SaveAs('./plots/xJ-inclusive-pp-EnergyLoss-function7-v2.pdf')\n",
    "\n",
    "\n",
    "cl = ROOT.TCanvas('cl', 'cl', 200, 200)\n",
    "cl.cd()\n",
    "legend = ROOT.TLegend(0.01,0.01,0.98,0.98)\n",
    "legend.SetBorderSize(0);\n",
    "legend.AddEntry(list_hM_xJ[icd],'pp events','leX0p')\n",
    "legend.AddEntry(list_hM_xJ_dE[icd],'#splitline{pp events}{with energy loss}','leX0p')\n",
    "legend.AddEntry(list_ATLAS_pp_gr_Syst[icd],'#splitline{ATLAS pp results}{(arXiv:1706.09363)}','lfp')\n",
    "legend.AddEntry(list_ATLAS_PbPb_gr_Syst[icd],'#splitline{ATLAS PbPb results}{(arXiv:1706.09363)}','lfp')\n",
    "legend.Draw('same')\n",
    "legend.Draw()\n",
    "cl.SaveAs('./plots/legend-xJ-inclusive-pp-EnergyLoss.png')\n",
    "cl.SaveAs('./plots/legend-xJ-inclusive-pp-EnergyLoss.pdf')"
   ]
  },
  {
   "cell_type": "code",
   "execution_count": null,
   "metadata": {},
   "outputs": [],
   "source": []
  }
 ],
 "metadata": {
  "kernelspec": {
   "display_name": "Python 3",
   "language": "python",
   "name": "python3"
  },
  "language_info": {
   "codemirror_mode": {
    "name": "ipython",
    "version": 3
   },
   "file_extension": ".py",
   "mimetype": "text/x-python",
   "name": "python",
   "nbconvert_exporter": "python",
   "pygments_lexer": "ipython3",
   "version": "3.7.3"
  }
 },
 "nbformat": 4,
 "nbformat_minor": 2
}
