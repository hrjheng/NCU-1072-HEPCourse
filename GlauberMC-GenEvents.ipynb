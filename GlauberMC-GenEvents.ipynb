{
 "cells": [
  {
   "cell_type": "markdown",
   "metadata": {
    "toc": true
   },
   "source": [
    "<h1>Table of Contents<span class=\"tocSkip\"></span></h1>\n",
    "<div class=\"toc\"><ul class=\"toc-item\"><li><span><a href=\"#Run-the-collisions\" data-toc-modified-id=\"Run-the-collisions-1\"><span class=\"toc-item-num\">1&nbsp;&nbsp;</span>Run the collisions</a></span></li><li><span><a href=\"#Make-plots\" data-toc-modified-id=\"Make-plots-2\"><span class=\"toc-item-num\">2&nbsp;&nbsp;</span>Make plots</a></span><ul class=\"toc-item\"><li><span><a href=\"#N_part-v.s-b-for-a-certain-XS_NN\" data-toc-modified-id=\"N_part-v.s-b-for-a-certain-XS_NN-2.1\"><span class=\"toc-item-num\">2.1&nbsp;&nbsp;</span>N_part v.s b for a certain XS_NN</a></span></li><li><span><a href=\"#N_spec-v.s-b-for-a-certain-XS_NN\" data-toc-modified-id=\"N_spec-v.s-b-for-a-certain-XS_NN-2.2\"><span class=\"toc-item-num\">2.2&nbsp;&nbsp;</span>N_spec v.s b for a certain XS_NN</a></span></li><li><span><a href=\"#N_part/N_total-v.s-b-for-a-certain-XS_NN\" data-toc-modified-id=\"N_part/N_total-v.s-b-for-a-certain-XS_NN-2.3\"><span class=\"toc-item-num\">2.3&nbsp;&nbsp;</span>N_part/N_total v.s b for a certain XS_NN</a></span></li><li><span><a href=\"#N_spec/N_total-v.s-b-for-a-certain-XS_NN\" data-toc-modified-id=\"N_spec/N_total-v.s-b-for-a-certain-XS_NN-2.4\"><span class=\"toc-item-num\">2.4&nbsp;&nbsp;</span>N_spec/N_total v.s b for a certain XS_NN</a></span></li><li><span><a href=\"#N_part-v.s-b-with-different-XS_NN-for-a-certain-nucleus\" data-toc-modified-id=\"N_part-v.s-b-with-different-XS_NN-for-a-certain-nucleus-2.5\"><span class=\"toc-item-num\">2.5&nbsp;&nbsp;</span>N_part v.s b with different XS_NN for a certain nucleus</a></span></li><li><span><a href=\"#N_spec-v.s-b-with-different-XS_NN-for-a-certain-nucleus\" data-toc-modified-id=\"N_spec-v.s-b-with-different-XS_NN-for-a-certain-nucleus-2.6\"><span class=\"toc-item-num\">2.6&nbsp;&nbsp;</span>N_spec v.s b with different XS_NN for a certain nucleus</a></span></li><li><span><a href=\"#N_coll-per-nucleon-v.s-b-with-different-XS_NN-for-a-certain-nucleus\" data-toc-modified-id=\"N_coll-per-nucleon-v.s-b-with-different-XS_NN-for-a-certain-nucleus-2.7\"><span class=\"toc-item-num\">2.7&nbsp;&nbsp;</span>N_coll per nucleon v.s b with different XS_NN for a certain nucleus</a></span></li><li><span><a href=\"#N_coll-per-nucleon-v.s-b-for-a-certain-XS_NN\" data-toc-modified-id=\"N_coll-per-nucleon-v.s-b-for-a-certain-XS_NN-2.8\"><span class=\"toc-item-num\">2.8&nbsp;&nbsp;</span>N_coll per nucleon v.s b for a certain XS_NN</a></span></li></ul></li></ul></div>"
   ]
  },
  {
   "cell_type": "code",
   "execution_count": null,
   "metadata": {
    "ExecuteTime": {
     "end_time": "2019-03-28T04:19:31.199776Z",
     "start_time": "2019-03-28T04:19:24.000155Z"
    }
   },
   "outputs": [],
   "source": [
    "import numpy as np\n",
    "import pandas as pd\n",
    "import pickle\n",
    "import ROOT\n",
    "from array import array\n",
    "import tdrstyle as tdr\n",
    "import os\n",
    "from matplotlib import rcParams, cycler\n",
    "import matplotlib.pyplot as plt\n",
    "from matplotlib.colors import LogNorm\n",
    "from array import array as ary\n",
    "import math\n",
    "import pickle\n",
    "\n",
    "from GlauberMC_classes import *\n",
    "from GlauberMC_Utilities import *\n",
    "\n",
    "%jsroot on\n",
    "ROOT.gStyle.SetOptStat(0)\n",
    "\n",
    "tdr.setTDRStyle()"
   ]
  },
  {
   "cell_type": "markdown",
   "metadata": {},
   "source": [
    "# Run the collisions #"
   ]
  },
  {
   "cell_type": "code",
   "execution_count": null,
   "metadata": {
    "ExecuteTime": {
     "end_time": "2019-03-28T04:20:09.404052Z",
     "start_time": "2019-03-28T04:20:09.386680Z"
    }
   },
   "outputs": [],
   "source": [
    "step_b = 0.1\n",
    "Verbose = True\n",
    "random = ROOT.TRandom3()\n",
    "os.makedirs('./plots', exist_ok=True)\n",
    "os.makedirs('./plots/plot-analysis', exist_ok=True)"
   ]
  },
  {
   "cell_type": "code",
   "execution_count": null,
   "metadata": {
    "ExecuteTime": {
     "end_time": "2019-03-28T04:43:31.512139Z",
     "start_time": "2019-03-28T04:20:12.535964Z"
    }
   },
   "outputs": [],
   "source": [
    "for iNucType in range(len(list(dic_Z.keys()))):\n",
    "    Nuclei_type = list(dic_Z.keys())[iNucType]\n",
    "    os.makedirs('collision-data/', exist_ok=True)\n",
    "    os.makedirs('collision-data/{0}'.format(Nuclei_type), exist_ok=True)\n",
    "    \n",
    "    print (Nuclei_type)\n",
    "\n",
    "    for ib in range(0, 201, 1):\n",
    "        for iXSNN in range(42, 102, 10):\n",
    "\n",
    "            D = pow(0.1 * iXSNN / math.pi, 1. / 2.)  # [fm]\n",
    "            b = ib * step_b\n",
    "\n",
    "            if Verbose == True:\n",
    "                print('Impact parameter:', b,\n",
    "                      '\\nNucleon-nucleon cross section: ', iXSNN,\n",
    "                      '\\nBall diameter:', D, '\\nNuclei type:', Nuclei_type,\n",
    "                      'nuclear radius:',\n",
    "                      1.2 * pow(dic_Z.get(Nuclei_type), 1. / 3.))\n",
    "\n",
    "            NucleusA = nucleus(Nuclei_type, 0 + b / 2., 0., 0.,\n",
    "                               dic_Z.get(Nuclei_type), dic_a.get(Nuclei_type),\n",
    "                               dic_w.get(Nuclei_type), iXSNN)\n",
    "            NucleusB = nucleus(Nuclei_type, 0 - b / 2., 0., 0.,\n",
    "                               dic_Z.get(Nuclei_type), dic_a.get(Nuclei_type),\n",
    "                               dic_w.get(Nuclei_type), iXSNN)\n",
    "            NucleusA.Fill_nuclei()\n",
    "            NucleusB.Fill_nuclei()\n",
    "            Event = Collision_Event(NucleusA, NucleusB, b)\n",
    "            Event.Collision()\n",
    "            Event.SetEvent()\n",
    "\n",
    "            f_data = open(\n",
    "                './collision-data/{0}/Collision_{1}-IP{2:.1f}fm-XS_NN{3:.1f}mb.pkl'\n",
    "                .format(Nuclei_type,\n",
    "                        Nuclei_type.split('_', 1)[0], b, iXSNN), 'wb')\n",
    "            pickle.dump(Event, f_data)\n",
    "            f_data.close()\n",
    "\n",
    "            del NucleusA, NucleusB, Event, f_data"
   ]
  },
  {
   "cell_type": "markdown",
   "metadata": {},
   "source": [
    "# Make plots #\n",
    "##  N_part v.s b for a certain XS_NN ##"
   ]
  },
  {
   "cell_type": "code",
   "execution_count": null,
   "metadata": {
    "ExecuteTime": {
     "end_time": "2019-03-21T10:02:46.101271Z",
     "start_time": "2019-03-21T10:02:13.845227Z"
    }
   },
   "outputs": [],
   "source": [
    "step_b = 0.1\n",
    "\n",
    "for iXSNN in range(42,102,10):\n",
    "    list_b = []\n",
    "    list_part_AllNuc = []\n",
    "    list_b.clear()\n",
    "    list_part_AllNuc.clear()\n",
    "    for iNuc in range(len(list(dic_Z.keys()))):\n",
    "        list_part = []\n",
    "        list_part.clear()\n",
    "        print (iXSNN, list(dic_Z.keys())[iNuc])\n",
    "        for ib in range(0, 151, 1):\n",
    "            b = ib * step_b\n",
    "            if iNuc == 0:\n",
    "                list_b.append(b)\n",
    "                \n",
    "            infile = open('./collision-data/{0}/Collision_{1}-IP{2:.1f}fm-XS_NN{3:.1f}mb.pkl'\n",
    "                    .format(list(dic_Z.keys())[iNuc],\n",
    "                            list(dic_Z.keys())[iNuc].split('_', 1)[0], b, iXSNN), 'rb')\n",
    "            \n",
    "            Event = pickle.load(infile)\n",
    "            list_part.append(Event.Npart)\n",
    "            \n",
    "            infile.close()\n",
    "            del Event, infile\n",
    "\n",
    "        list_part_AllNuc.append(list_part)\n",
    "        \n",
    "        del list_part\n",
    "\n",
    "\n",
    "\n",
    "    cmap = plt.cm.viridis\n",
    "    rcParams['axes.prop_cycle'] = cycler(color=cmap(np.linspace(0, 1, len(list_part_AllNuc))))\n",
    "\n",
    "    fig = plt.figure(figsize=(8,6))\n",
    "    ax = plt.subplot(111)\n",
    "    ax.set_title('$\\sigma_{NN}$'+' = {0:.1f} mb'.format(iXSNN), fontsize=20, loc='right')\n",
    "    labels = []\n",
    "    for i in range(len(list_part_AllNuc)):\n",
    "        plt.plot(list_b, list_part_AllNuc[i], marker='o', markersize=12, linestyle='None')\n",
    "        labels.append(list(dic_Z.keys())[i].split('_', 1)[0])\n",
    "    plt.xlabel('Impact parameter b (fm)', fontsize=17)\n",
    "    plt.ylabel('Number of participants', fontsize=17)\n",
    "    plt.tick_params(labelsize=15)\n",
    "    plt.grid(True)\n",
    "    plt.legend(labels,fontsize='xx-large')\n",
    "    plt.savefig('./plot-analysis/NumParti-vs-IP_XSNN{0:.1f}mb.png'.format(iXSNN))\n",
    "    plt.savefig('./plot-analysis/NumParti-vs-IP_XSNN{0:.1f}mb.pdf'.format(iXSNN))\n",
    "    # plt.show()\n",
    "    # plt.close()"
   ]
  },
  {
   "cell_type": "markdown",
   "metadata": {},
   "source": [
    "## N_spec v.s b for a certain XS_NN ## "
   ]
  },
  {
   "cell_type": "code",
   "execution_count": null,
   "metadata": {
    "ExecuteTime": {
     "end_time": "2019-03-22T02:33:03.627946Z",
     "start_time": "2019-03-22T02:29:56.204201Z"
    }
   },
   "outputs": [],
   "source": [
    "step_b = 0.1\n",
    "\n",
    "for iXSNN in range(42, 102, 10):\n",
    "    list_b = []\n",
    "    list_spec_AllNuc = []\n",
    "    list_b.clear()\n",
    "    list_spec_AllNuc.clear()\n",
    "    for iNuc in range(len(list(dic_Z.keys()))):\n",
    "        list_spec = []\n",
    "        list_spec.clear()\n",
    "        for ib in range(0, 151, 1):\n",
    "            b = ib * step_b\n",
    "            if iNuc == 0:\n",
    "                list_b.append(b)\n",
    "\n",
    "            infile = open(\n",
    "                './collision-data/{0}/Collision_{1}-IP{2:.1f}fm-XS_NN{3:.1f}mb.pkl'\n",
    "                .format(\n",
    "                    list(dic_Z.keys())[iNuc],\n",
    "                    list(dic_Z.keys())[iNuc].split('_', 1)[0], b, iXSNN), 'rb')\n",
    "            Event = pickle.load(infile)\n",
    "            list_spec.append((Event.NucA.Z + Event.NucB.Z) - Event.Npart)\n",
    "\n",
    "            infile.close()\n",
    "            del Event, infile\n",
    "\n",
    "        list_spec_AllNuc.append(list_spec)\n",
    "        del list_spec\n",
    "\n",
    "    cmap = plt.cm.viridis\n",
    "    rcParams['axes.prop_cycle'] = cycler(\n",
    "        color=cmap(np.linspace(0, 1, len(list_spec_AllNuc))))\n",
    "\n",
    "    fig = plt.figure(figsize=(8, 6))\n",
    "    ax = plt.subplot(111)\n",
    "    ax.set_title(\n",
    "        '$\\sigma_{NN}$' + ' = {0:.1f} mb'.format(iXSNN),\n",
    "        fontsize=20,\n",
    "        loc='right')\n",
    "    labels = []\n",
    "    for i in range(len(list_spec_AllNuc)):\n",
    "        plt.plot(\n",
    "            list_b,\n",
    "            list_spec_AllNuc[i],\n",
    "            marker='o',\n",
    "            markersize=12,\n",
    "            linestyle='None')\n",
    "        labels.append(list(dic_Z.keys())[i].split('_', 1)[0])\n",
    "    plt.xlabel('Impact parameter b (fm)', fontsize=17)\n",
    "    plt.ylabel('Number of spectators', fontsize=17)\n",
    "    plt.tick_params(labelsize=15)\n",
    "    plt.grid(True)\n",
    "    plt.legend(labels, fontsize='xx-large')\n",
    "    os.makedirs('./plot-analysis', exist_ok=True)\n",
    "    plt.savefig(\n",
    "        './plot-analysis/NumSpect-vs-IP_XSNN{0:.1f}mb.png'.format(iXSNN))\n",
    "    plt.savefig(\n",
    "        './plot-analysis/NumSpect-vs-IP_XSNN{0:.1f}mb.pdf'.format(iXSNN))\n",
    "    # plt.show()\n",
    "    # plt.close()"
   ]
  },
  {
   "cell_type": "markdown",
   "metadata": {},
   "source": [
    "## N_part/N_total v.s b for a certain XS_NN ## "
   ]
  },
  {
   "cell_type": "code",
   "execution_count": null,
   "metadata": {
    "ExecuteTime": {
     "end_time": "2019-03-22T02:59:26.965872Z",
     "start_time": "2019-03-22T02:58:53.708233Z"
    }
   },
   "outputs": [],
   "source": [
    "step_b = 0.1\n",
    "\n",
    "for iXSNN in range(42,102,10):\n",
    "    list_b = []\n",
    "    list_part_AllNuc = []\n",
    "    list_b.clear()\n",
    "    list_part_AllNuc.clear()\n",
    "    for iNuc in range(len(list(dic_Z.keys()))):\n",
    "        list_part = []\n",
    "        list_part.clear()\n",
    "        for ib in range(0, 151, 1):\n",
    "            b = ib * step_b\n",
    "            if iNuc == 0:\n",
    "                list_b.append(b)\n",
    "\n",
    "            infile = open(\n",
    "                './collision-data/{0}/Collision_{1}-IP{2:.1f}fm-XS_NN{3:.1f}mb.pkl'\n",
    "                .format(\n",
    "                    list(dic_Z.keys())[iNuc],\n",
    "                    list(dic_Z.keys())[iNuc].split('_', 1)[0], b, iXSNN), 'rb')\n",
    "            Event = pickle.load(infile)\n",
    "            list_part.append(Event.Npart / (Event.NucA.Z+Event.NucB.Z))\n",
    "\n",
    "        list_part_AllNuc.append(list_part)\n",
    "\n",
    "    cmap = plt.cm.viridis\n",
    "    rcParams['axes.prop_cycle'] = cycler(\n",
    "        color=cmap(np.linspace(0, 1, len(list_part_AllNuc))))\n",
    "\n",
    "    fig = plt.figure(figsize=(8, 6))\n",
    "    ax = plt.subplot(111)\n",
    "    ax.set_title(\n",
    "        '$\\sigma_{NN}$' + ' = {0:.1f} mb'.format(iXSNN), fontsize=20, loc='right')\n",
    "    labels = []\n",
    "    for i in range(len(list_part_AllNuc)):\n",
    "        plt.plot(\n",
    "            list_b,\n",
    "            list_part_AllNuc[i],\n",
    "            marker='o',\n",
    "            markersize=12,\n",
    "            linestyle='None')\n",
    "        labels.append(list(dic_Z.keys())[i].split('_', 1)[0])\n",
    "    plt.xlabel('Impact parameter b (fm)', fontsize=17)\n",
    "    plt.ylabel('N$_{participants}$ / N$_{nucleons}$', fontsize=17)\n",
    "    plt.tick_params(labelsize=15)\n",
    "    plt.grid(True)\n",
    "    plt.legend(labels, fontsize='xx-large')\n",
    "    plt.savefig(\n",
    "        './plot-analysis/RatioNumParti-vs-IP_XSNN{0:.1f}mb.png'.format(iXSNN))\n",
    "    plt.savefig(\n",
    "        './plot-analysis/RatioNumParti-vs-IP_XSNN{0:.1f}mb.pdf'.format(iXSNN))\n",
    "    # plt.show()\n",
    "    # plt.close()"
   ]
  },
  {
   "cell_type": "markdown",
   "metadata": {},
   "source": [
    "## N_spec/N_total v.s b for a certain XS_NN ## "
   ]
  },
  {
   "cell_type": "code",
   "execution_count": null,
   "metadata": {
    "ExecuteTime": {
     "end_time": "2019-03-22T03:05:25.792657Z",
     "start_time": "2019-03-22T03:04:49.504281Z"
    }
   },
   "outputs": [],
   "source": [
    "step_b = 0.1\n",
    "\n",
    "for iXSNN in range(42,102,10):\n",
    "    list_b = []\n",
    "    list_spec_AllNuc = []\n",
    "    list_b.clear()\n",
    "    list_spec_AllNuc.clear()\n",
    "    for iNuc in range(len(list(dic_Z.keys()))):\n",
    "        list_spec = []\n",
    "        list_spec.clear()\n",
    "        for ib in range(0, 151, 1):\n",
    "            b = ib * step_b\n",
    "            if iNuc == 0:\n",
    "                list_b.append(b)\n",
    "\n",
    "            infile = open(\n",
    "                './collision-data/{0}/Collision_{1}-IP{2:.1f}fm-XS_NN{3:.1f}mb.pkl'\n",
    "                .format(\n",
    "                    list(dic_Z.keys())[iNuc],\n",
    "                    list(dic_Z.keys())[iNuc].split('_', 1)[0], b, iXSNN), 'rb')\n",
    "            Event = pickle.load(infile)\n",
    "            list_spec.append(((Event.NucA.Z+Event.NucB.Z)-Event.Npart)/(Event.NucA.Z+Event.NucB.Z))\n",
    "\n",
    "        list_spec_AllNuc.append(list_spec)\n",
    "\n",
    "    cmap = plt.cm.viridis\n",
    "    rcParams['axes.prop_cycle'] = cycler(\n",
    "        color=cmap(np.linspace(0, 1, len(list_spec_AllNuc))))\n",
    "\n",
    "    fig = plt.figure(figsize=(8, 6))\n",
    "    ax = plt.subplot(111)\n",
    "    ax.set_title(\n",
    "        '$\\sigma_{NN}$' + ' = {0:.1f} mb'.format(iXSNN), fontsize=20, loc='right')\n",
    "    labels = []\n",
    "    for i in range(len(list_spec_AllNuc)):\n",
    "        plt.plot(\n",
    "            list_b,\n",
    "            list_spec_AllNuc[i],\n",
    "            marker='o',\n",
    "            markersize=12,\n",
    "            linestyle='None')\n",
    "        labels.append(list(dic_Z.keys())[i].split('_', 1)[0])\n",
    "    plt.xlabel('Impact parameter b (fm)', fontsize=17)\n",
    "    plt.ylabel('N$_{spectators}$ / N$_{nucleons}$', fontsize=17)\n",
    "    plt.tick_params(labelsize=15)\n",
    "    plt.grid(True)\n",
    "    plt.legend(labels, fontsize='xx-large')\n",
    "    plt.savefig(\n",
    "        './plot-analysis/RatioNumSpect-vs-IP_XSNN{0:.1f}mb.png'.format(iXSNN))\n",
    "    plt.savefig(\n",
    "        './plot-analysis/RatioNumSpect-vs-IP_XSNN{0:.1f}mb.pdf'.format(iXSNN))\n",
    "    # plt.show()\n",
    "    # plt.close()"
   ]
  },
  {
   "cell_type": "markdown",
   "metadata": {},
   "source": [
    "## N_part v.s b with different XS_NN for a certain nucleus  ## "
   ]
  },
  {
   "cell_type": "code",
   "execution_count": null,
   "metadata": {
    "ExecuteTime": {
     "end_time": "2019-03-22T03:13:21.539886Z",
     "start_time": "2019-03-22T03:13:04.219891Z"
    }
   },
   "outputs": [],
   "source": [
    "step_b = 0.1\n",
    "\n",
    "cmap = plt.cm.coolwarm\n",
    "rcParams['axes.prop_cycle'] = cycler(color=cmap(np.linspace(0, 1, 6)))\n",
    "\n",
    "\n",
    "for iNuc in range(len(list(dic_Z.keys()))):\n",
    "    list_b = []\n",
    "    list_part_XSNN = []\n",
    "    labels_XSNN = []\n",
    "    list_part_XSNN.clear()\n",
    "    labels_XSNN.clear()\n",
    "    \n",
    "    for iXSNN in range(42, 102, 10):\n",
    "        list_part = []\n",
    "        list_part.clear()\n",
    "        labels_XSNN.append(iXSNN)\n",
    "        for ib in range(0, 151, 1):\n",
    "            b = ib * step_b\n",
    "            if iXSNN == 42:\n",
    "                list_b.append(b)\n",
    "\n",
    "            infile = open('./collision-data/{0}/Collision_{1}-IP{2:.1f}fm-XS_NN{3:.1f}mb.pkl'\n",
    "                    .format(list(dic_Z.keys())[iNuc],\n",
    "                            list(dic_Z.keys())[iNuc].split('_', 1)[0], b, iXSNN), 'rb')\n",
    "            Event = pickle.load(infile)\n",
    "            list_part.append(Event.Npart)\n",
    "\n",
    "        list_part_XSNN.append(list_part)\n",
    "        del list_part\n",
    "    \n",
    "    fig = plt.figure(figsize=(8,6))\n",
    "    ax = plt.subplot(111)\n",
    "    ax.set_title('Nucleus: {0}'.format(list(dic_Z.keys())[iNuc].split('_', 1)[0]), fontsize=20, loc='right')\n",
    "    labels = []\n",
    "    for i in range(len(list_part_XSNN)):\n",
    "        plt.plot(list_b, list_part_XSNN[i], marker='o', markersize=12, linestyle='None')\n",
    "        labels.append('{0:.1f}mb'.format(labels_XSNN[i]))\n",
    "    plt.xlabel('Impact parameter b (fm)', fontsize=17)\n",
    "    plt.ylabel('Number of participants', fontsize=17)\n",
    "    plt.tick_params(labelsize=15)\n",
    "    plt.grid(True)\n",
    "    plt.legend(labels,fontsize='xx-large')\n",
    "    plt.savefig('./plot-analysis/NumParti-vs-IP_XSNN_{0}.png'.format(list(dic_Z.keys())[iNuc]))\n",
    "    plt.savefig('./plot-analysis/NumParti-vs-IP_XSNN_{0}.pdf'.format(list(dic_Z.keys())[iNuc]))\n",
    "    # plt.show()\n",
    "    # plt.close()"
   ]
  },
  {
   "cell_type": "markdown",
   "metadata": {},
   "source": [
    "## N_spec v.s b with different XS_NN for a certain nucleus  ## "
   ]
  },
  {
   "cell_type": "code",
   "execution_count": null,
   "metadata": {
    "ExecuteTime": {
     "end_time": "2019-03-22T03:14:47.858141Z",
     "start_time": "2019-03-22T03:14:31.138115Z"
    }
   },
   "outputs": [],
   "source": [
    "step_b = 0.1\n",
    "\n",
    "cmap = plt.cm.coolwarm\n",
    "rcParams['axes.prop_cycle'] = cycler(color=cmap(np.linspace(0, 1, 6)))\n",
    "\n",
    "\n",
    "for iNuc in range(len(list(dic_Z.keys()))):\n",
    "    list_b = []\n",
    "    list_spec_XSNN = []\n",
    "    labels_XSNN = []\n",
    "    list_spec_XSNN.clear()\n",
    "    labels_XSNN.clear()\n",
    "    \n",
    "    for iXSNN in range(42, 102, 10):\n",
    "        list_spec = []\n",
    "        list_spec.clear()\n",
    "        labels_XSNN.append(iXSNN)\n",
    "        for ib in range(0, 151, 1):\n",
    "            b = ib * step_b\n",
    "            if iXSNN == 42:\n",
    "                list_b.append(b)\n",
    "\n",
    "            infile = open('./collision-data/{0}/Collision_{1}-IP{2:.1f}fm-XS_NN{3:.1f}mb.pkl'\n",
    "                    .format(list(dic_Z.keys())[iNuc],\n",
    "                            list(dic_Z.keys())[iNuc].split('_', 1)[0], b, iXSNN), 'rb')\n",
    "            Event = pickle.load(infile)\n",
    "            list_spec.append(Event.NucA.Z+Event.NucB.Z-Event.Npart)\n",
    "\n",
    "        list_spec_XSNN.append(list_spec)\n",
    "        del list_spec\n",
    "    \n",
    "    fig = plt.figure(figsize=(8,6))\n",
    "    ax = plt.subplot(111)\n",
    "    ax.set_title('Nucleus: {0}'.format(list(dic_Z.keys())[iNuc].split('_', 1)[0]), fontsize=20, loc='right')\n",
    "    labels = []\n",
    "    for i in range(len(list_spec_XSNN)):\n",
    "        plt.plot(list_b, list_spec_XSNN[i], marker='o', markersize=12, linestyle='None')\n",
    "        labels.append('{0:.1f}mb'.format(labels_XSNN[i]))\n",
    "    plt.xlabel('Impact parameter b (fm)', fontsize=17)\n",
    "    plt.ylabel('Number of spectators', fontsize=17)\n",
    "    plt.tick_params(labelsize=15)\n",
    "    plt.grid(True)\n",
    "    plt.legend(labels,fontsize='xx-large')\n",
    "    plt.savefig('./plot-analysis/NumSpect-vs-IP_XSNN_{0}.png'.format(list(dic_Z.keys())[iNuc]))\n",
    "    plt.savefig('./plot-analysis/NumSpect-vs-IP_XSNN_{0}.pdf'.format(list(dic_Z.keys())[iNuc]))\n",
    "    # plt.show()\n",
    "    # plt.close()"
   ]
  },
  {
   "cell_type": "markdown",
   "metadata": {},
   "source": [
    "## N_coll per nucleon v.s b with different XS_NN for a certain nucleus"
   ]
  },
  {
   "cell_type": "code",
   "execution_count": null,
   "metadata": {
    "ExecuteTime": {
     "end_time": "2019-03-22T03:19:41.362521Z",
     "start_time": "2019-03-22T03:19:20.440204Z"
    }
   },
   "outputs": [],
   "source": [
    "step_b = 0.1\n",
    "\n",
    "cmap = plt.cm.coolwarm\n",
    "rcParams['axes.prop_cycle'] = cycler(color=cmap(np.linspace(0, 1, 6)))\n",
    "\n",
    "\n",
    "for iNuc in range(len(list(dic_Z.keys()))):\n",
    "    list_b = []\n",
    "    list_coll_XSNN = []\n",
    "    labels_XSNN = []\n",
    "    list_coll_XSNN.clear()\n",
    "    labels_XSNN.clear()\n",
    "    \n",
    "    for iXSNN in range(42, 102, 10):\n",
    "        list_coll = []\n",
    "        list_coll.clear()\n",
    "        labels_XSNN.append(iXSNN)\n",
    "        for ib in range(0, 151, 1):\n",
    "            b = ib * step_b\n",
    "            if iXSNN == 42:\n",
    "                list_b.append(b)\n",
    "\n",
    "            infile = open('./collision-data/{0}/Collision_{1}-IP{2:.1f}fm-XS_NN{3:.1f}mb.pkl'\n",
    "                    .format(list(dic_Z.keys())[iNuc],\n",
    "                            list(dic_Z.keys())[iNuc].split('_', 1)[0], b, iXSNN), 'rb')\n",
    "            Event = pickle.load(infile)\n",
    "            list_coll.append(Event.Ncoll/(Event.NucA.Z+Event.NucB.Z))\n",
    "\n",
    "        list_coll_XSNN.append(list_coll)\n",
    "        del list_coll\n",
    "    \n",
    "    fig = plt.figure(figsize=(8,6))\n",
    "    ax = plt.subplot(111)\n",
    "    ax.set_title('Nucleus: {0}'.format(list(dic_Z.keys())[iNuc].split('_', 1)[0]), fontsize=20, loc='right')\n",
    "    labels = []\n",
    "    for i in range(len(list_coll_XSNN)):\n",
    "        plt.plot(list_b, list_coll_XSNN[i], marker='o', markersize=12, linestyle='None')\n",
    "        labels.append('{0:.1f}mb'.format(labels_XSNN[i]))\n",
    "    plt.xlabel('Impact parameter b (fm)', fontsize=17)\n",
    "    plt.ylabel('N$_{binary\\ collision}$ per nucleon', fontsize=17)\n",
    "    plt.tick_params(labelsize=15)\n",
    "    plt.grid(True)\n",
    "    plt.legend(labels,fontsize='xx-large')\n",
    "    plt.savefig('./plot-analysis/NumCollPerNuc-vs-IP_XSNN_{0}.png'.format(list(dic_Z.keys())[iNuc]))\n",
    "    plt.savefig('./plot-analysis/NumCollPerNuc-vs-IP_XSNN_{0}.pdf'.format(list(dic_Z.keys())[iNuc]))\n",
    "    # plt.show()\n",
    "    # plt.close()"
   ]
  },
  {
   "cell_type": "markdown",
   "metadata": {},
   "source": [
    " ## N_coll per nucleon v.s b for a certain XS_NN ##"
   ]
  },
  {
   "cell_type": "code",
   "execution_count": null,
   "metadata": {
    "ExecuteTime": {
     "end_time": "2019-03-22T03:22:13.507619Z",
     "start_time": "2019-03-22T03:21:56.398526Z"
    }
   },
   "outputs": [],
   "source": [
    "step_b = 0.1\n",
    "\n",
    "for iXSNN in range(42,102,10):\n",
    "    list_b = []\n",
    "    list_coll_AllNuc = []\n",
    "    list_b.clear()\n",
    "    list_coll_AllNuc.clear()\n",
    "    for iNuc in range(len(list(dic_Z.keys()))):\n",
    "        list_coll = []\n",
    "        list_coll.clear()\n",
    "        for ib in range(0, 151, 1):\n",
    "            b = ib * step_b\n",
    "            if iNuc == 0:\n",
    "                list_b.append(b)\n",
    "\n",
    "            infile = open('./collision-data/{0}/Collision_{1}-IP{2:.1f}fm-XS_NN{3:.1f}mb.pkl'\n",
    "                    .format(list(dic_Z.keys())[iNuc],\n",
    "                            list(dic_Z.keys())[iNuc].split('_', 1)[0], b, iXSNN), 'rb')\n",
    "            Event = pickle.load(infile)\n",
    "            list_coll.append(Event.Ncoll/(Event.NucA.Z+Event.NucB.Z))\n",
    "\n",
    "        list_coll_AllNuc.append(list_coll)\n",
    "        del list_coll\n",
    "\n",
    "\n",
    "\n",
    "    cmap = plt.cm.viridis\n",
    "    rcParams['axes.prop_cycle'] = cycler(color=cmap(np.linspace(0, 1, len(list_coll_AllNuc))))\n",
    "\n",
    "    fig = plt.figure(figsize=(8,6))\n",
    "    ax = plt.subplot(111)\n",
    "    ax.set_title('$\\sigma_{NN}$'+' = {0:.1f} mb'.format(iXSNN), fontsize=20, loc='right')\n",
    "    labels = []\n",
    "    for i in range(len(list_coll_AllNuc)):\n",
    "        plt.plot(list_b, list_coll_AllNuc[i], marker='o', markersize=12, linestyle='None')\n",
    "        labels.append(list(dic_Z.keys())[i].split('_', 1)[0])\n",
    "    plt.xlabel('Impact parameter b (fm)', fontsize=17)\n",
    "    plt.ylabel('N$_{binary\\ collision}$ per nucleon', fontsize=17)\n",
    "    plt.tick_params(labelsize=15)\n",
    "    plt.grid(True)\n",
    "    plt.legend(labels,fontsize='xx-large')\n",
    "    plt.savefig('./plot-analysis/NumCollPerNuc-vs-IP_XSNN{0:.1f}mb.png'.format(iXSNN))\n",
    "    plt.savefig('./plot-analysis/NumCollPerNuc-vs-IP_XSNN{0:.1f}mb.pdf'.format(iXSNN))\n",
    "    # plt.show()\n",
    "    # plt.close()"
   ]
  },
  {
   "cell_type": "code",
   "execution_count": null,
   "metadata": {},
   "outputs": [],
   "source": []
  }
 ],
 "metadata": {
  "kernelspec": {
   "display_name": "Python 3",
   "language": "python",
   "name": "python3"
  },
  "language_info": {
   "codemirror_mode": {
    "name": "ipython",
    "version": 3
   },
   "file_extension": ".py",
   "mimetype": "text/x-python",
   "name": "python",
   "nbconvert_exporter": "python",
   "pygments_lexer": "ipython3",
   "version": "3.6.5"
  },
  "toc": {
   "base_numbering": 1,
   "nav_menu": {},
   "number_sections": true,
   "sideBar": false,
   "skip_h1_title": false,
   "title_cell": "Table of Contents",
   "title_sidebar": "Contents",
   "toc_cell": true,
   "toc_position": {
    "height": "391px",
    "left": "1076px",
    "top": "113px",
    "width": "364px"
   },
   "toc_section_display": true,
   "toc_window_display": true
  }
 },
 "nbformat": 4,
 "nbformat_minor": 2
}
