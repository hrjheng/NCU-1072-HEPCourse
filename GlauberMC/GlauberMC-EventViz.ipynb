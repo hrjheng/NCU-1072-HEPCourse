{
 "cells": [
  {
   "cell_type": "code",
   "execution_count": null,
   "metadata": {
    "ExecuteTime": {
     "end_time": "2019-03-28T03:48:13.018595Z",
     "start_time": "2019-03-28T03:48:12.999932Z"
    }
   },
   "outputs": [],
   "source": [
    "import numpy as np\n",
    "import pandas as pd\n",
    "import pickle\n",
    "import ROOT\n",
    "import tdrstyle as tdr\n",
    "import os\n",
    "from matplotlib import rcParams, cycler\n",
    "import matplotlib.pyplot as plt\n",
    "from matplotlib.colors import LogNorm\n",
    "from array import array as ary\n",
    "import math\n",
    "import pickle\n",
    "from skhep.visual import MplPlotter as skh_plt\n",
    "\n",
    "from GlauberMC_classes import *\n",
    "\n",
    "ROOT.gStyle.SetOptStat(0)\n",
    "\n",
    "tdr.setTDRStyle()"
   ]
  },
  {
   "cell_type": "code",
   "execution_count": null,
   "metadata": {
    "ExecuteTime": {
     "end_time": "2019-03-28T04:08:31.801832Z",
     "start_time": "2019-03-28T04:08:31.769673Z"
    }
   },
   "outputs": [],
   "source": [
    "def Setup_ellipse(Nuc):\n",
    "    list_ellipse = []\n",
    "    for i in range(Nuc.Z):\n",
    "        elp = ROOT.TEllipse(Nuc.list_nuclei[i].x, Nuc.list_nuclei[i].y,\n",
    "                            Nuc.list_nuclei[i].D / 2.,\n",
    "                            Nuc.list_nuclei[i].D / 2.)\n",
    "        elp.SetFillStyle(0)\n",
    "        elp.SetLineStyle(7)\n",
    "        if Nuc.list_nuclei[i].Participant == True:\n",
    "            elp.SetLineWidth(2)\n",
    "            elp.SetLineStyle(1)\n",
    "\n",
    "        list_ellipse.append(elp)\n",
    "        del elp\n",
    "\n",
    "    return list_ellipse\n",
    "\n",
    "\n",
    "def plot_collision(Event):\n",
    "    canvas = ROOT.TCanvas('c', 'c', 800, 700)\n",
    "    canvas.cd()\n",
    "    h2f = ROOT.TH2F(\"hGlauberMC\", \"\", 160, -16, 16, 140, -14, 14)\n",
    "    h2f.Reset()\n",
    "    h2f.SetStats(0)\n",
    "    h2f.GetXaxis().SetTitle('x (fm)')\n",
    "    h2f.GetYaxis().SetTitle('y (fm)')\n",
    "    h2f.Draw()\n",
    "\n",
    "    ltx = ROOT.TLatex()\n",
    "    ltx.SetNDC()\n",
    "    ltx.SetTextFont(42)\n",
    "    ltx.SetTextSize(0.04)\n",
    "    ltx.DrawLatex(0.22, 0.86, 'Nucleus: {0}'.format(\n",
    "        Event.NucA.name.split('_', 1)[0]))\n",
    "    ltx.DrawLatex(0.22, 0.81,\n",
    "                  'Impact parameter b = {0:.1f} fm'.format(Event.b))\n",
    "    ltx.DrawLatex(0.22, 0.76,\n",
    "                  '#sigma_{NN}' + ' = {0:.1f} mb'.format(Event.NucA.xsec_NN))\n",
    "\n",
    "    elp_NucA = ROOT.TEllipse(Event.NucA.x, Event.NucA.y, Event.NucA.R,\n",
    "                             Event.NucA.R)\n",
    "    elp_NucB = ROOT.TEllipse(Event.NucB.x, Event.NucB.y, Event.NucB.R,\n",
    "                             Event.NucB.R)\n",
    "    elp_NucA.SetFillStyle(0)\n",
    "    elp_NucA.SetLineStyle(9)\n",
    "    elp_NucB.SetFillStyle(0)\n",
    "    elp_NucB.SetLineStyle(9)\n",
    "    elp_NucA.Draw('same')\n",
    "    elp_NucB.Draw('same')\n",
    "\n",
    "    list_elpNucA = Setup_ellipse(Event.NucA)\n",
    "    list_elpNucB = Setup_ellipse(Event.NucB)\n",
    "\n",
    "    for i in range(len(list_elpNucA)):\n",
    "        list_elpNucA[i].SetLineColor(2)\n",
    "        list_elpNucA[i].Draw('same')\n",
    "\n",
    "    for i in range(len(list_elpNucB)):\n",
    "        list_elpNucB[i].SetLineColor(4)\n",
    "        list_elpNucB[i].Draw('same')\n",
    "\n",
    "    os.makedirs('./plots', exist_ok=True)\n",
    "    os.makedirs('./plots/plot-event', exist_ok=True)\n",
    "    canvas.SaveAs('./plots/plot-event/{0}+{1}-IP{2:.1f}fm-XSNN{3:.1f}mb.png'.format(\n",
    "        Event.NucA.name.split('_', 1)[0],\n",
    "        Event.NucB.name.split('_', 1)[0],\n",
    "        Event.b,\n",
    "        Event.NucA.xsec_NN))\n",
    "    canvas.SaveAs('./plots/plot-event/{0}+{1}-IP{2:.1f}fm-XSNN{3:.1f}mb.pdf'.format(\n",
    "        Event.NucA.name.split('_', 1)[0],\n",
    "        Event.NucB.name.split('_', 1)[0],\n",
    "        Event.b,\n",
    "        Event.NucA.xsec_NN))\n",
    "\n",
    "    del canvas"
   ]
  },
  {
   "cell_type": "code",
   "execution_count": null,
   "metadata": {
    "ExecuteTime": {
     "end_time": "2019-03-28T03:44:49.556836Z",
     "start_time": "2019-03-28T03:44:49.437827Z"
    }
   },
   "outputs": [],
   "source": [
    "infile = open('./collision-data/Pb_207-IPRandomfm-XSNN42.0mb-Nevt10/Events.pkl','rb')\n",
    "list_ev = pickle.load(infile)"
   ]
  },
  {
   "cell_type": "code",
   "execution_count": null,
   "metadata": {
    "ExecuteTime": {
     "end_time": "2019-03-28T04:10:25.090160Z",
     "start_time": "2019-03-28T04:10:24.958060Z"
    }
   },
   "outputs": [],
   "source": [
    "plot_collision(list_ev[4])"
   ]
  },
  {
   "cell_type": "code",
   "execution_count": null,
   "metadata": {},
   "outputs": [],
   "source": []
  }
 ],
 "metadata": {
  "kernelspec": {
   "display_name": "Python 3",
   "language": "python",
   "name": "python3"
  },
  "language_info": {
   "codemirror_mode": {
    "name": "ipython",
    "version": 3
   },
   "file_extension": ".py",
   "mimetype": "text/x-python",
   "name": "python",
   "nbconvert_exporter": "python",
   "pygments_lexer": "ipython3",
   "version": "3.6.5"
  },
  "toc": {
   "base_numbering": 1,
   "nav_menu": {},
   "number_sections": true,
   "sideBar": false,
   "skip_h1_title": false,
   "title_cell": "Table of Contents",
   "title_sidebar": "Contents",
   "toc_cell": false,
   "toc_position": {
    "height": "249px",
    "left": "1036px",
    "top": "114px",
    "width": "382px"
   },
   "toc_section_display": true,
   "toc_window_display": true
  }
 },
 "nbformat": 4,
 "nbformat_minor": 2
}
